{
 "cells": [
  {
   "cell_type": "code",
   "execution_count": 3,
   "metadata": {},
   "outputs": [],
   "source": [
    "import cognitive_face as CF\n",
    "import os"
   ]
  },
  {
   "cell_type": "code",
   "execution_count": 4,
   "metadata": {},
   "outputs": [],
   "source": [
    "SUBSCRIPTION_KEY = '73a339d4f6484ff1aa6a2e9fc14d89a2'\n",
    "BASE_URL = 'https://eastasia.api.cognitive.microsoft.com/face/v1.0/'\n",
    "CF.BaseUrl.set(BASE_URL)\n",
    "CF.Key.set(SUBSCRIPTION_KEY)"
   ]
  },
  {
   "cell_type": "code",
   "execution_count": 5,
   "metadata": {},
   "outputs": [
    {
     "data": {
      "text/plain": [
       "{}"
      ]
     },
     "execution_count": 5,
     "metadata": {},
     "output_type": "execute_result"
    }
   ],
   "source": [
    "#groupPath = \"C:/AP/\"\n",
    "#groups = os.listdir(groupPath)\n",
    "#for group in groups:\n",
    "#    print(group)\n",
    "#    PERSON_GROUP_ID = group\n",
    "#    CF.person_group.create(PERSON_GROUP_ID)\n",
    "\n",
    "PERSON_GROUP_ID = \"s\"\n",
    "CF.person_group.create(PERSON_GROUP_ID, \"seecs bla\")"
   ]
  },
  {
   "cell_type": "code",
   "execution_count": 6,
   "metadata": {},
   "outputs": [],
   "source": [
    "name = \"Rizwan\"\n",
    "user_data = 'BSCS-6A , 180459'\n",
    "response = CF.person.create(PERSON_GROUP_ID, name, user_data)"
   ]
  },
  {
   "cell_type": "code",
   "execution_count": 7,
   "metadata": {},
   "outputs": [
    {
     "data": {
      "text/plain": [
       "{'persistedFaceId': 'd9246ce9-23de-4f6a-b719-49b3bc85621b'}"
      ]
     },
     "execution_count": 7,
     "metadata": {},
     "output_type": "execute_result"
    }
   ],
   "source": [
    "# Get person_id from response\n",
    "person_id = response['personId']\n",
    "\n",
    "\n",
    "#CF.person.add_face('C:/AP/bscs6a/193590_Roshan/roshan1.jpg', PERSON_GROUP_ID, person_id)\n",
    "CF.person.add_face('C:/AP/bscs6a/180459_Rizwan/1.jpg', PERSON_GROUP_ID, person_id)\n",
    "CF.person.add_face('C:/AP/bscs6a/180459_Rizwan/2.jpg', PERSON_GROUP_ID, person_id)\n",
    "#CF.person.add_face('C:/AP/bscs6a/180459_Rizwan/3.jpg', PERSON_GROUP_ID, person_id)\n",
    "CF.person.add_face('C:/AP/bscs6a/180459_Rizwan/4.jpg', PERSON_GROUP_ID, person_id)\n",
    "CF.person.add_face('C:/AP/bscs6a/180459_Rizwan/5.jpg', PERSON_GROUP_ID, person_id)\n",
    "CF.person.add_face('C:/AP/bscs6a/180459_Rizwan/6.jpg', PERSON_GROUP_ID, person_id)\n",
    "CF.person.add_face('C:/AP/bscs6a/180459_Rizwan/7.jpg', PERSON_GROUP_ID, person_id)"
   ]
  },
  {
   "cell_type": "code",
   "execution_count": 5,
   "metadata": {},
   "outputs": [
    {
     "name": "stdout",
     "output_type": "stream",
     "text": [
      "[{'name': 'yahya', 'personId': 'da968481-6ad0-47ad-a382-5d6105660ee5', 'userData': 'Roll Number supposing', 'persistedFaceIds': ['00c6dc37-e937-45b3-822b-9f7bc0aa1438', '60334cb7-92d0-41a8-a442-a2afea4b4bd6', 'c745273f-8398-44de-a33d-5be7226ccf41', 'f1bf2506-f950-4f40-98fe-decaadbc2ec8']}]\n"
     ]
    }
   ],
   "source": [
    "PERSON_GROUP_ID = 'blaaaa'\n",
    "print (CF.person.lists(PERSON_GROUP_ID))"
   ]
  },
  {
   "cell_type": "code",
   "execution_count": 9,
   "metadata": {},
   "outputs": [
    {
     "data": {
      "text/plain": [
       "{}"
      ]
     },
     "execution_count": 9,
     "metadata": {},
     "output_type": "execute_result"
    }
   ],
   "source": [
    "CF.person_group.train(PERSON_GROUP_ID)"
   ]
  },
  {
   "cell_type": "code",
   "execution_count": 12,
   "metadata": {},
   "outputs": [],
   "source": [
    "response = CF.person_group.get_status(PERSON_GROUP_ID)\n",
    "status = response['status']"
   ]
  },
  {
   "cell_type": "code",
   "execution_count": 6,
   "metadata": {},
   "outputs": [
    {
     "name": "stdout",
     "output_type": "stream",
     "text": [
      "['0ac0d28b-e903-49a4-a8a4-055648947764']\n"
     ]
    }
   ],
   "source": [
    "response = CF.face.detect('y.jpg')\n",
    "face_ids = [d['faceId'] for d in response]\n",
    "print (face_ids)"
   ]
  },
  {
   "cell_type": "code",
   "execution_count": 7,
   "metadata": {},
   "outputs": [
    {
     "name": "stdout",
     "output_type": "stream",
     "text": [
      "[{'faceId': '0ac0d28b-e903-49a4-a8a4-055648947764', 'candidates': [{'personId': 'da968481-6ad0-47ad-a382-5d6105660ee5', 'confidence': 0.90129}]}]\n"
     ]
    }
   ],
   "source": [
    "identified_faces = CF.face.identify(face_ids, PERSON_GROUP_ID,max_candidates_return=30)\n",
    "print (identified_faces)"
   ]
  },
  {
   "cell_type": "code",
   "execution_count": 24,
   "metadata": {},
   "outputs": [
    {
     "name": "stdout",
     "output_type": "stream",
     "text": [
      "Help on list object:\n",
      "\n",
      "class list(object)\n",
      " |  list() -> new empty list\n",
      " |  list(iterable) -> new list initialized from iterable's items\n",
      " |  \n",
      " |  Methods defined here:\n",
      " |  \n",
      " |  __add__(self, value, /)\n",
      " |      Return self+value.\n",
      " |  \n",
      " |  __contains__(self, key, /)\n",
      " |      Return key in self.\n",
      " |  \n",
      " |  __delitem__(self, key, /)\n",
      " |      Delete self[key].\n",
      " |  \n",
      " |  __eq__(self, value, /)\n",
      " |      Return self==value.\n",
      " |  \n",
      " |  __ge__(self, value, /)\n",
      " |      Return self>=value.\n",
      " |  \n",
      " |  __getattribute__(self, name, /)\n",
      " |      Return getattr(self, name).\n",
      " |  \n",
      " |  __getitem__(...)\n",
      " |      x.__getitem__(y) <==> x[y]\n",
      " |  \n",
      " |  __gt__(self, value, /)\n",
      " |      Return self>value.\n",
      " |  \n",
      " |  __iadd__(self, value, /)\n",
      " |      Implement self+=value.\n",
      " |  \n",
      " |  __imul__(self, value, /)\n",
      " |      Implement self*=value.\n",
      " |  \n",
      " |  __init__(self, /, *args, **kwargs)\n",
      " |      Initialize self.  See help(type(self)) for accurate signature.\n",
      " |  \n",
      " |  __iter__(self, /)\n",
      " |      Implement iter(self).\n",
      " |  \n",
      " |  __le__(self, value, /)\n",
      " |      Return self<=value.\n",
      " |  \n",
      " |  __len__(self, /)\n",
      " |      Return len(self).\n",
      " |  \n",
      " |  __lt__(self, value, /)\n",
      " |      Return self<value.\n",
      " |  \n",
      " |  __mul__(self, value, /)\n",
      " |      Return self*value.n\n",
      " |  \n",
      " |  __ne__(self, value, /)\n",
      " |      Return self!=value.\n",
      " |  \n",
      " |  __new__(*args, **kwargs) from builtins.type\n",
      " |      Create and return a new object.  See help(type) for accurate signature.\n",
      " |  \n",
      " |  __repr__(self, /)\n",
      " |      Return repr(self).\n",
      " |  \n",
      " |  __reversed__(...)\n",
      " |      L.__reversed__() -- return a reverse iterator over the list\n",
      " |  \n",
      " |  __rmul__(self, value, /)\n",
      " |      Return self*value.\n",
      " |  \n",
      " |  __setitem__(self, key, value, /)\n",
      " |      Set self[key] to value.\n",
      " |  \n",
      " |  __sizeof__(...)\n",
      " |      L.__sizeof__() -- size of L in memory, in bytes\n",
      " |  \n",
      " |  append(...)\n",
      " |      L.append(object) -> None -- append object to end\n",
      " |  \n",
      " |  clear(...)\n",
      " |      L.clear() -> None -- remove all items from L\n",
      " |  \n",
      " |  copy(...)\n",
      " |      L.copy() -> list -- a shallow copy of L\n",
      " |  \n",
      " |  count(...)\n",
      " |      L.count(value) -> integer -- return number of occurrences of value\n",
      " |  \n",
      " |  extend(...)\n",
      " |      L.extend(iterable) -> None -- extend list by appending elements from the iterable\n",
      " |  \n",
      " |  index(...)\n",
      " |      L.index(value, [start, [stop]]) -> integer -- return first index of value.\n",
      " |      Raises ValueError if the value is not present.\n",
      " |  \n",
      " |  insert(...)\n",
      " |      L.insert(index, object) -- insert object before index\n",
      " |  \n",
      " |  pop(...)\n",
      " |      L.pop([index]) -> item -- remove and return item at index (default last).\n",
      " |      Raises IndexError if list is empty or index is out of range.\n",
      " |  \n",
      " |  remove(...)\n",
      " |      L.remove(value) -> None -- remove first occurrence of value.\n",
      " |      Raises ValueError if the value is not present.\n",
      " |  \n",
      " |  reverse(...)\n",
      " |      L.reverse() -- reverse *IN PLACE*\n",
      " |  \n",
      " |  sort(...)\n",
      " |      L.sort(key=None, reverse=False) -> None -- stable sort *IN PLACE*\n",
      " |  \n",
      " |  ----------------------------------------------------------------------\n",
      " |  Data and other attributes defined here:\n",
      " |  \n",
      " |  __hash__ = None\n",
      "\n"
     ]
    }
   ],
   "source": [
    "help( CF.face.identify(face_ids[10:], PERSON_GROUP_ID))"
   ]
  },
  {
   "cell_type": "code",
   "execution_count": null,
   "metadata": {},
   "outputs": [],
   "source": []
  }
 ],
 "metadata": {
  "kernelspec": {
   "display_name": "tensorflow",
   "language": "python",
   "name": "tensorflow"
  },
  "language_info": {
   "codemirror_mode": {
    "name": "ipython",
    "version": 3
   },
   "file_extension": ".py",
   "mimetype": "text/x-python",
   "name": "python",
   "nbconvert_exporter": "python",
   "pygments_lexer": "ipython3",
   "version": "3.5.5"
  }
 },
 "nbformat": 4,
 "nbformat_minor": 2
}
